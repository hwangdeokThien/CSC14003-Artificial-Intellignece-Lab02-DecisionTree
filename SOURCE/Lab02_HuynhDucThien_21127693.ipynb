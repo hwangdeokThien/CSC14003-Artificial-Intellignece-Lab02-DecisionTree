{
 "cells": [
  {
   "cell_type": "markdown",
   "id": "7955bb90",
   "metadata": {},
   "source": [
    "# <center style='color: darkblue'> Lab02: *Decision Tree* </center>"
   ]
  },
  {
   "cell_type": "markdown",
   "id": "c0b22fb0",
   "metadata": {},
   "source": [
    "**Student**\n",
    "> Full name: Huynh Duc Thien <br>\n",
    "ID: 21127693 <br>\n",
    "Contact: hdthien21@clc.fitus.edu.vn <br>\n",
    "Course: MTH00057_21CLC07 <br>\n",
    "Class: 21CLC07"
   ]
  },
  {
   "cell_type": "code",
   "execution_count": null,
   "id": "a3f23fda",
   "metadata": {},
   "outputs": [],
   "source": [
    "import pandas as pd\n",
    "import numpy as np\n",
    "import seaborn as sns\n",
    "import matplotlib.pyplot as plt\n",
    "import graphviz\n",
    "from IPython.display import display, Image\n",
    "from sklearn import tree\n",
    "from sklearn.utils import shuffle\n",
    "from sklearn.preprocessing import LabelEncoder\n",
    "from sklearn.model_selection import train_test_split\n",
    "from sklearn.tree import DecisionTreeClassifier, export_graphviz\n",
    "from sklearn.metrics import classification_report, confusion_matrix, accuracy_score"
   ]
  },
  {
   "cell_type": "markdown",
   "id": "e3ac7840",
   "metadata": {},
   "source": [
    "## <font style='color: darkblue'> 1. Preparing the data sets <a id=\"c1\"></a>"
   ]
  },
  {
   "cell_type": "code",
   "execution_count": null,
   "id": "47ace34c",
   "metadata": {},
   "outputs": [],
   "source": [
    "col_names = ['parents', 'has_nurs', 'form', 'children', 'housing', 'fiance', 'social', 'health', 'class']\n",
    "data = pd.read_csv('./nursery.data.csv', names=col_names)\n",
    "\n",
    "features = data.drop(['class'], axis=1)\n",
    "labels = data['class']\n",
    "\n",
    "encoder = LabelEncoder()\n",
    "categorical_cols = features.select_dtypes(include=['object']).columns\n",
    "features[categorical_cols] = features[categorical_cols].apply(encoder.fit_transform)\n",
    "\n",
    "features_name = col_names[:-1]\n",
    "classes_name = labels.unique().tolist()\n",
    "\n",
    "proportions = [(0.4, 0.6), (0.6, 0.4), (0.8, 0.2), (0.9, 0.1)]\n",
    "train_test_sets = []\n",
    "\n",
    "for prop in proportions:\n",
    "    features_train, features_test, labels_train, labels_test = train_test_split(features.copy(), \n",
    "                                                                                labels.copy(), \n",
    "                                                                                train_size=prop[0], \n",
    "                                                                                test_size=prop[1], \n",
    "                                                                                shuffle=True, \n",
    "                                                                                stratify=labels,\n",
    "                                                                                random_state=0)\n",
    "    train_test_sets.append((features_train, labels_train, features_test, labels_test))"
   ]
  },
  {
   "cell_type": "markdown",
   "id": "39c8c597",
   "metadata": {},
   "source": [
    "***Visualize the distribution***"
   ]
  },
  {
   "cell_type": "code",
   "execution_count": null,
   "id": "aedbd071",
   "metadata": {
    "scrolled": false
   },
   "outputs": [],
   "source": [
    "data_counts = labels.value_counts().sort_index()\n",
    "train_counts = [labels_train.value_counts().reindex(data_counts.index, fill_value=0) \n",
    "                for (_, labels_train, _, _) in train_test_sets]\n",
    "test_counts = [labels_test.value_counts().reindex(data_counts.index, fill_value=0) \n",
    "               for (_, _, _, labels_test) in train_test_sets]\n",
    "\n",
    "for i, proportion in enumerate(proportions):\n",
    "    plt.figure(figsize=(12, 6))\n",
    "    plt.title(f\"Data Distribution (Train: {proportion[0]}, Test: {proportion[1]})\")\n",
    "\n",
    "    x = np.arange(len(data_counts))\n",
    "    width = 0.25\n",
    "    plt.bar(x - width, data_counts, width, label='Original Data')\n",
    "\n",
    "    x_train = np.arange(len(train_counts[i]))\n",
    "    plt.bar(x_train, train_counts[i], width, label='Training Data')\n",
    "\n",
    "    x_test = np.arange(len(test_counts[i]))\n",
    "    plt.bar(x_test + width, test_counts[i], width, label='Test Data')\n",
    "\n",
    "    plt.xlabel(\"Class\")\n",
    "    plt.ylabel(\"Count\")\n",
    "    plt.xticks(np.arange(len(data_counts)), data_counts.index, rotation=45)\n",
    "    plt.legend()\n",
    "    plt.tight_layout()\n",
    "    plt.show()"
   ]
  },
  {
   "cell_type": "markdown",
   "id": "f63b790d",
   "metadata": {},
   "source": [
    "## <font style='color: darkblue'> 2. Building the decision tree classifiers <a id=\"c2\"></a>"
   ]
  },
  {
   "cell_type": "code",
   "execution_count": null,
   "id": "413d6f4c",
   "metadata": {
    "scrolled": false
   },
   "outputs": [],
   "source": [
    "dtc_list = []\n",
    "for (features_train, labels_train, features_test, labels_test), proportion in zip(train_test_sets, proportions):\n",
    "    print(f\"------------ Proportion - Train: {proportion[0]} - Test: {proportion[1]} ------------\")\n",
    "    dtc = DecisionTreeClassifier(criterion=\"entropy\", splitter=\"best\", random_state=0)\n",
    "    dtc.fit(features_train, labels_train)\n",
    "    dot_data = tree.export_graphviz(dtc, \n",
    "                                    out_file=None, \n",
    "                                    feature_names=features_name, \n",
    "                                    class_names=classes_name,\n",
    "                                    filled=True,\n",
    "                                    special_characters=True)\n",
    "    graph = graphviz.Source(dot_data)\n",
    "    dtc_list.append(dtc)\n",
    "    graph.render(f\"./dt_with_proportion/decision_tree_proportion_{proportion[0]}_{proportion[1]}\", \n",
    "                 format='png', \n",
    "                 cleanup=True)\n",
    "    display(Image(f\"./dt_with_proportion/decision_tree_proportion_{proportion[0]}_{proportion[1]}.png\"))"
   ]
  },
  {
   "cell_type": "markdown",
   "id": "27418abb",
   "metadata": {},
   "source": [
    "## <font style='color: darkblue'> 3. Evaluating the decision tree classifiers <a id=\"c3\"></a>"
   ]
  },
  {
   "cell_type": "code",
   "execution_count": null,
   "id": "37fd7dde",
   "metadata": {
    "scrolled": false
   },
   "outputs": [],
   "source": [
    "for dtc, (features_train, labels_train, features_test, labels_test), proportion in zip(dtc_list, train_test_sets, proportions):\n",
    "    labels_pred = dtc.predict(features_test)\n",
    "\n",
    "    report = classification_report(labels_test, labels_pred, zero_division=1)\n",
    "    print(f\"\\n\\n\\nClassification Report - Proportion: {proportion}\")\n",
    "    print(report)\n",
    "\n",
    "    matrix = confusion_matrix(labels_test, labels_pred)\n",
    "    print(\"Confusion Matrix:\")\n",
    "    print(matrix)\n",
    "\n",
    "    plt.figure(figsize=(8, 6))\n",
    "    sns.heatmap(matrix, \n",
    "                annot=True, \n",
    "                cmap=\"Purples\", \n",
    "                fmt=\"d\", \n",
    "                cbar=True, \n",
    "                xticklabels=dtc.classes_, \n",
    "                yticklabels=dtc.classes_)\n",
    "    plt.xlabel(\"Predicted Label\")\n",
    "    plt.ylabel(\"True Label\")\n",
    "    plt.title(f\"Decision Tree Classifier Heatmap\\nProportion: {proportion}\")\n",
    "    plt.show()"
   ]
  },
  {
   "cell_type": "markdown",
   "id": "98cd0653",
   "metadata": {},
   "source": [
    "## <font style='color: darkblue'> 4. The depth and accuracy of a decision tree <a id=\"c4\"></a>"
   ]
  },
  {
   "cell_type": "code",
   "execution_count": null,
   "id": "5d36aa69",
   "metadata": {
    "scrolled": false
   },
   "outputs": [],
   "source": [
    "max_depth_values = [2, 3, 4, 5, 6, 7, None]\n",
    "accuracy_scores = []\n",
    "features_train_arc, labels_train_arc, features_test_arc, labels_test_arc = train_test_sets[2]\n",
    "\n",
    "for max_depth in max_depth_values:\n",
    "    if max_depth is not None:\n",
    "        print(f\"------------ Max depth: {max_depth} ------------\")\n",
    "    else:\n",
    "        print(\"------------ No limit depth ------------\")\n",
    "        \n",
    "    dtc = DecisionTreeClassifier(max_depth=max_depth)\n",
    "    dtc.fit(features_train_arc, labels_train_arc)\n",
    "\n",
    "    labels_pred_arc = dtc.predict(features_test_arc)\n",
    "\n",
    "    accuracy = accuracy_score(labels_test_arc, labels_pred_arc)\n",
    "    accuracy_scores.append(accuracy)\n",
    "\n",
    "    dot_data = tree.export_graphviz(dtc, \n",
    "                                    out_file=None, \n",
    "                                    feature_names=features_name, \n",
    "                                    class_names=classes_name, \n",
    "                                    filled=True)\n",
    "    graph = graphviz.Source(dot_data)\n",
    "    graph.render(f\"./limited_depth_tree/decision_tree_depth_{max_depth}\", format='png', cleanup=True)\n",
    "    display(Image(f\"./limited_depth_tree/decision_tree_depth_{max_depth}.png\"))\n",
    "\n",
    "\n",
    "print(\"\\n\\nAccuracy board\")\n",
    "print(\"max_depth \\tAccuracy\")\n",
    "for max_depth, accuracy in zip(max_depth_values, accuracy_scores):\n",
    "    print(f\"{max_depth}\\t\\t{accuracy}\")\n",
    "    \n",
    "    \n",
    "max_depth_str_formatted = [str(depth) if depth is not None else 'No limit' for depth in max_depth_values]\n",
    "plt.plot(max_depth_str_formatted, accuracy_scores, marker='o', color='purple')\n",
    "plt.xlabel('Max Depth')\n",
    "plt.ylabel('Accuracy')\n",
    "plt.title('Accuracy vs. Max Depth')\n",
    "plt.grid(True)\n",
    "plt.show()"
   ]
  }
 ],
 "metadata": {
  "kernelspec": {
   "display_name": "Python 3 (ipykernel)",
   "language": "python",
   "name": "python3"
  },
  "language_info": {
   "codemirror_mode": {
    "name": "ipython",
    "version": 3
   },
   "file_extension": ".py",
   "mimetype": "text/x-python",
   "name": "python",
   "nbconvert_exporter": "python",
   "pygments_lexer": "ipython3",
   "version": "3.10.9"
  }
 },
 "nbformat": 4,
 "nbformat_minor": 5
}
